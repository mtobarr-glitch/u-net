{
 "cells": [
  {
   "cell_type": "markdown",
   "metadata": {},
   "source": [
    "# Labkit Labeling Guide (ImageJ/Fiji)\n",
    "\n",
    "Minimal steps to create multi-class masks compatible with this repo (indexed PNG):\n",
    "\n",
    "1. Open Fiji > Update (if needed). Install Labkit via Update Sites.\n",
    "2. File > Open... an image from `data/images/`.\n",
    "3. Plugins > Segmentation > Labkit > Open Current Image With Labkit.\n",
    "4. Create classes matching your label scheme:\n",
    "   - Model 1: background (0), filaments (1), flocs (2)\n",
    "   - Model 2: background (0), filaments (1), flocs (2), shadows (3), artifacts (4), non_target (5)\n",
    "5. Use painting tools to annotate pixels.\n",
    "6. Train Labkit classifier (if desired) and refine labels.\n",
    "7. Export label image: File > Export > Segmentation > as Image (Indexed).\n",
    "   - Save as 8-bit PNG to `data/masks_model1/` or `data/masks_model2/` with the same filename as the image.\n",
    "\n",
    "Notes:\n",
    "- Ensure masks are single-channel indexed images where pixel values equal the class indices.\n",
    "- RA is computed as a fraction [0,1] in post-processing; AF-UNet (mm^2/mL) = (RA_filaments / 0.05) * 1.47.\n"
   ]
  }
 ],
 "metadata": {
  "kernelspec": {
   "display_name": "Python 3",
   "language": "python",
   "name": "python3"
  },
  "language_info": {
   "name": "python",
   "version": "3.10"
  }
 },
 "nbformat": 4,
 "nbformat_minor": 5
}
